{
 "cells": [
  {
   "cell_type": "markdown",
   "metadata": {},
   "source": [
    "# 7-1 项目目录搭建，Styled-Components 与 Reset.css 的结合使用\n",
    "- `create-react-app jianshu`\n",
    "\n",
    "**注意点**\n",
    "- CSS文件一旦在一个地方引入，全局生效\n",
    "- 一般使用第三方模块，Styled Components进行管理\n",
    "    - 安装: `yarn add styled-components`\n",
    "    - 使用: 可以在js文件中写css样式\n",
    "    - createGolbalStyle\n",
    "    \n",
    "    \n",
    "    // style.js\n",
    "    import { createGlobalStyle } from 'styled-components'\n",
    "\n",
    "    export const GlobalStyle = createGlobalStyle`\n",
    "      body {\n",
    "        margin: 0;\n",
    "        padding: 0;\n",
    "        font-family: sans-serief;\n",
    "        background: green;\n",
    "      }\n",
    "    `\n",
    "    \n",
    "    // index.js\n",
    "    import React, { Fragment } from 'react';\n",
    "    import ReactDOM from 'react-dom';\n",
    "    import App from './App';\n",
    "    import { GlobalStyle } from './style.js';\n",
    "\n",
    "    ReactDOM.render(\n",
    "      <Fragment>\n",
    "        <GlobalStyle />\n",
    "        <App />\n",
    "      </Fragment>,\n",
    "      document.getElementById('root')\n",
    "    );\n",
    "\n",
    "\n",
    "### Reset.css 样式统一\n",
    "就是一段css代码\n",
    "\n",
    "[reset.css](https://meyerweb.com/eric/tools/css/reset/)"
   ]
  },
  {
   "cell_type": "markdown",
   "metadata": {},
   "source": [
    "# 7-2 / 7-3使用 styled-components 完成 Header 组件布局\n",
    "\n",
    "    \n",
    "    import styled from 'styled-components'\n",
    "\n",
    "    // 本质就是div\n",
    "    export const HeaderWrapper = styled.div`\n",
    "      height: 56px;\n",
    "      background: red;\n",
    "    `\n",
    "    \n",
    "**HeaderWrapper组件的本质就是一个带样式的div标签**\n",
    "\n",
    "### 总结\n",
    "- styled-components 第三方组件实现样式独享，不会互相冲突"
   ]
  },
  {
   "cell_type": "markdown",
   "metadata": {},
   "source": [
    "# 7-4 使用 iconfont 嵌入头部图标\n",
    "\n",
    "1. 注册账号并新建项目\n",
    "2. 选取需要的图标添加至购物车\n",
    "3. 下载到本地\n",
    "4. 选取以下有用的文件，添加至src/iconfont\n",
    "    - iconfont.{css, eot, svg, ttf, woff}\n",
    "5. 修改 iconfont.css 为iconfont.js\n",
    "    - createGlobalStyle\n",
    "    \n",
    "    \n",
    "### 使用\n",
    "\n",
    "将 `Aa` 替换为 `<i className=\"iconfont\">&#xe636;</i>`\n",
    "\n",
    "将 羽毛笔 替换为 `<i className=\"iconfont\">&#xe6e5;</i>`\n",
    "\n",
    "将 放大镜 替换为 `<i className=\"iconfont\">&#xe614;</i>`"
   ]
  },
  {
   "cell_type": "markdown",
   "metadata": {},
   "source": [
    "# 7-5 搜索框动画效果实现\n",
    "\n",
    "- `yarn add react-transition-group`\n",
    "\n",
    "\n",
    "    .slide-enter {\n",
    "    transition: all .2s ease-out\n",
    "    }\n",
    "    .slide-enter-active {\n",
    "    width: 240px;\n",
    "    }\n",
    "    .slide-exit {\n",
    "    transition: all .2s ease-out\n",
    "    }\n",
    "    .slide-exit-active {\n",
    "    width: 160px;\n",
    "    }\n",
    "    \n",
    "    \n",
    "    <CSSTransition\n",
    "        in={this.state.focused}\n",
    "        timeout={200}\n",
    "        classNames=\"slide\"\n",
    "    >\n",
    "        <NavSearch\n",
    "            className={this.state.focused ? 'focused' : ''}\n",
    "            onFocus={this.handleInputFocus}\n",
    "            onBlur={this.handleInputBlur}\n",
    "        ></NavSearch>\n",
    "    </CSSTransition>"
   ]
  },
  {
   "cell_type": "markdown",
   "metadata": {},
   "source": [
    "# 7-6 使用 React-Redux进行应用数据的管理\n",
    "\n",
    "- yarn add redux\n",
    "- yarn add react-redux"
   ]
  },
  {
   "cell_type": "markdown",
   "metadata": {},
   "source": [
    "# 7-7 使用 combineReducers 完成对数据的拆分管理\n",
    "\n",
    "    // redux开发者工具store/index.js CHANGE TO\n",
    "    \n",
    "    const composeEnhancers = window.__REDUX_DEVTOOLS_EXTENSION_COMPOSE__ || compose\n",
    "    const store = createStore(reducer, composeEnhancers())\n",
    "    \n",
    "    \n",
    "### 拆分 reducer\n",
    "    \n",
    "    \n",
    "    import { combineReducers } from 'redux'\n",
    "    import headerReducer from '../common/header/store/reducer'\n",
    "\n",
    "    export default combineReducers({\n",
    "        header: headerReducer\n",
    "    })\n",
    "    \n",
    "    "
   ]
  },
  {
   "cell_type": "markdown",
   "metadata": {},
   "source": [
    "# 7-8 actionCreators 与 constants的拆分\n"
   ]
  },
  {
   "cell_type": "markdown",
   "metadata": {},
   "source": [
    "# 7-9 使用 Immutable.js 来管理 store 中的数据\n",
    "\n",
    "**Facebook历时三年开发的第三方库**\n",
    "- 生成immutable对象\n",
    "\n",
    "### 安装\n",
    "- `yarn add immutable`\n",
    "\n",
    "\n",
    "### 使用\n",
    "\n",
    "\n",
    "    import { fromJS } from 'immutable'\n",
    "\n",
    "    const defaultState = fromJS({\n",
    "        focused: false\n",
    "    })\n",
    "    \n",
    "    \n",
    "### 必须使用 setter and getter\n",
    "    \n",
    "    /header/index.js\n",
    "    const mapStateToProps = (state) => {\n",
    "        return {\n",
    "            focused: state.header.get('focused')\n",
    "        }\n",
    "    }\n",
    "    \n",
    "    /header/store/reducer.js\n",
    "    export default (state=defaultState, action) => {\n",
    "        if (action.type === constants.SEARCH_FOCUS) {\n",
    "            return state.set('focused', true)\n",
    "        }\n",
    "        if (action.type === constants.SEARCH_BLUR) {\n",
    "            return state.set('focused', false)\n",
    "        }\n",
    "        return state\n",
    "    }\n",
    "    \n",
    "- immutable对象的set方法，会结合之前immutable对象的值和设置的值，返回一个新的对象"
   ]
  },
  {
   "cell_type": "markdown",
   "metadata": {},
   "source": [
    "# 7-10 使用 redux-immutable 统一数据格式\n",
    "\n",
    "    return {\n",
    "        focused: state.header.get('focused')\n",
    "    }\n",
    "    \n",
    "**问题：**\n",
    "\n",
    "state 是普通js对象\n",
    "\n",
    "state.header 是immutable对象\n",
    "\n",
    "不靠谱\n",
    "\n",
    "**解决**\n",
    "\n",
    "`yarn add redux-immutable`\n",
    "\n",
    "    import { combineReducers } from 'redux-immutable'\n",
    "    \n",
    "    state.get('header').get('focused')"
   ]
  },
  {
   "cell_type": "markdown",
   "metadata": {},
   "source": [
    "# 7-11 热门搜索样式布局"
   ]
  },
  {
   "cell_type": "markdown",
   "metadata": {},
   "source": [
    "# 7-12 Ajax获取推荐数据\n",
    "\n",
    "- 使用 redux-thunk 处理异步\n",
    "- 使用 axios\n",
    "    - 后端未开发：可以借用React特性，在api文件夹下写假数据"
   ]
  },
  {
   "cell_type": "markdown",
   "metadata": {},
   "source": [
    "# 7-13 代码优化微调"
   ]
  },
  {
   "cell_type": "markdown",
   "metadata": {},
   "source": [
    "# 7-14 热门搜索换页功能实现\n",
    "\n"
   ]
  }
 ],
 "metadata": {
  "kernelspec": {
   "display_name": "Python 3",
   "language": "python",
   "name": "python3"
  },
  "language_info": {
   "codemirror_mode": {
    "name": "ipython",
    "version": 3
   },
   "file_extension": ".py",
   "mimetype": "text/x-python",
   "name": "python",
   "nbconvert_exporter": "python",
   "pygments_lexer": "ipython3",
   "version": "3.7.4"
  }
 },
 "nbformat": 4,
 "nbformat_minor": 2
}
