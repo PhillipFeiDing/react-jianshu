{
 "cells": [
  {
   "cell_type": "markdown",
   "metadata": {},
   "source": [
    "# 7-1 项目目录搭建，Styled-Components 与 Reset.css 的结合使用\n",
    "- `create-react-app jianshu`\n",
    "\n",
    "**注意点**\n",
    "- CSS文件一旦在一个地方引入，全局生效\n",
    "- 一般使用第三方模块，Styled Components进行管理\n",
    "    - 安装: `yarn add styled-components`\n",
    "    - 使用: 可以在js文件中写css样式\n",
    "    - createGolbalStyle\n",
    "    \n",
    "    \n",
    "    // style.js\n",
    "    import { createGlobalStyle } from 'styled-components'\n",
    "\n",
    "    export const GlobalStyle = createGlobalStyle`\n",
    "      body {\n",
    "        margin: 0;\n",
    "        padding: 0;\n",
    "        font-family: sans-serief;\n",
    "        background: green;\n",
    "      }\n",
    "    `\n",
    "    \n",
    "    // index.js\n",
    "    import React, { Fragment } from 'react';\n",
    "    import ReactDOM from 'react-dom';\n",
    "    import App from './App';\n",
    "    import { GlobalStyle } from './style.js';\n",
    "\n",
    "    ReactDOM.render(\n",
    "      <Fragment>\n",
    "        <GlobalStyle />\n",
    "        <App />\n",
    "      </Fragment>,\n",
    "      document.getElementById('root')\n",
    "    );\n",
    "\n",
    "\n",
    "### Reset.css 样式统一\n",
    "就是一段css代码\n",
    "\n",
    "[reset.css](https://meyerweb.com/eric/tools/css/reset/)"
   ]
  },
  {
   "cell_type": "markdown",
   "metadata": {},
   "source": [
    "# 7-2 / 7-3使用 styled-components 完成 Header 组件布局\n",
    "\n",
    "    \n",
    "    import styled from 'styled-components'\n",
    "\n",
    "    // 本质就是div\n",
    "    export const HeaderWrapper = styled.div`\n",
    "      height: 56px;\n",
    "      background: red;\n",
    "    `\n",
    "    \n",
    "**HeaderWrapper组件的本质就是一个带样式的div标签**\n",
    "\n",
    "### 总结\n",
    "- styled-components 第三方组件实现样式独享，不会互相冲突"
   ]
  },
  {
   "cell_type": "markdown",
   "metadata": {},
   "source": [
    "# 7-4 使用 iconfont 嵌入头部图标\n",
    "\n",
    "1. 注册账号并新建项目\n",
    "2. 选取需要的图标添加至购物车\n",
    "3. 下载到本地\n",
    "4. 选取以下有用的文件，添加至src/iconfont\n",
    "    - iconfont.{css, eot, svg, ttf, woff}\n",
    "5. 修改 iconfont.css 为iconfont.js\n",
    "    - createGlobalStyle\n",
    "    \n",
    "    \n",
    "### 使用\n",
    "\n",
    "将 `Aa` 替换为 `<i className=\"iconfont\">&#xe636;</i>`\n",
    "\n",
    "将 羽毛笔 替换为 `<i className=\"iconfont\">&#xe6e5;</i>`\n",
    "\n",
    "将 放大镜 替换为 `<i className=\"iconfont\">&#xe614;</i>`"
   ]
  },
  {
   "cell_type": "markdown",
   "metadata": {},
   "source": [
    "# 7-5 搜索框动画效果实现\n",
    "\n",
    "- `yarn add react-transition-group`\n",
    "\n",
    "\n",
    "    .slide-enter {\n",
    "    transition: all .2s ease-out\n",
    "    }\n",
    "    .slide-enter-active {\n",
    "    width: 240px;\n",
    "    }\n",
    "    .slide-exit {\n",
    "    transition: all .2s ease-out\n",
    "    }\n",
    "    .slide-exit-active {\n",
    "    width: 160px;\n",
    "    }\n",
    "    \n",
    "    \n",
    "    <CSSTransition\n",
    "        in={this.state.focused}\n",
    "        timeout={200}\n",
    "        classNames=\"slide\"\n",
    "    >\n",
    "        <NavSearch\n",
    "            className={this.state.focused ? 'focused' : ''}\n",
    "            onFocus={this.handleInputFocus}\n",
    "            onBlur={this.handleInputBlur}\n",
    "        ></NavSearch>\n",
    "    </CSSTransition>"
   ]
  },
  {
   "cell_type": "markdown",
   "metadata": {},
   "source": [
    "# 7-6 使用 React-Redux进行应用数据的管理\n",
    "\n",
    "- yarn add redux\n",
    "- yarn add react-redux"
   ]
  },
  {
   "cell_type": "markdown",
   "metadata": {},
   "source": [
    "# 7-7 使用 combineReducers 完成对数据的拆分管理\n",
    "\n",
    "    // redux开发者工具store/index.js CHANGE TO\n",
    "    \n",
    "    const composeEnhancers = window.__REDUX_DEVTOOLS_EXTENSION_COMPOSE__ || compose\n",
    "    const store = createStore(reducer, composeEnhancers())\n",
    "    \n",
    "    \n",
    "### 拆分 reducer\n",
    "    \n",
    "    \n",
    "    import { combineReducers } from 'redux'\n",
    "    import headerReducer from '../common/header/store/reducer'\n",
    "\n",
    "    export default combineReducers({\n",
    "        header: headerReducer\n",
    "    })\n",
    "    \n",
    "    "
   ]
  },
  {
   "cell_type": "markdown",
   "metadata": {},
   "source": [
    "# 7-8 actionCreators 与 constants的拆分\n"
   ]
  },
  {
   "cell_type": "markdown",
   "metadata": {},
   "source": [
    "# 7-9 使用 Immutable.js 来管理 store 中的数据\n",
    "\n",
    "**Facebook历时三年开发的第三方库**\n",
    "- 生成immutable对象\n",
    "\n",
    "### 安装\n",
    "- `yarn add immutable`\n",
    "\n",
    "\n",
    "### 使用\n",
    "\n",
    "\n",
    "    import { fromJS } from 'immutable'\n",
    "\n",
    "    const defaultState = fromJS({\n",
    "        focused: false\n",
    "    })\n",
    "    \n",
    "    \n",
    "### 必须使用 setter and getter\n",
    "    \n",
    "    /header/index.js\n",
    "    const mapStateToProps = (state) => {\n",
    "        return {\n",
    "            focused: state.header.get('focused')\n",
    "        }\n",
    "    }\n",
    "    \n",
    "    /header/store/reducer.js\n",
    "    export default (state=defaultState, action) => {\n",
    "        if (action.type === constants.SEARCH_FOCUS) {\n",
    "            return state.set('focused', true)\n",
    "        }\n",
    "        if (action.type === constants.SEARCH_BLUR) {\n",
    "            return state.set('focused', false)\n",
    "        }\n",
    "        return state\n",
    "    }\n",
    "    \n",
    "- immutable对象的set方法，会结合之前immutable对象的值和设置的值，返回一个新的对象"
   ]
  },
  {
   "cell_type": "markdown",
   "metadata": {},
   "source": [
    "# 7-10 使用 redux-immutable 统一数据格式\n",
    "\n",
    "    return {\n",
    "        focused: state.header.get('focused')\n",
    "    }\n",
    "    \n",
    "**问题：**\n",
    "\n",
    "state 是普通js对象\n",
    "\n",
    "state.header 是immutable对象\n",
    "\n",
    "不靠谱\n",
    "\n",
    "**解决**\n",
    "\n",
    "`yarn add redux-immutable`\n",
    "\n",
    "    import { combineReducers } from 'redux-immutable'\n",
    "    \n",
    "    state.get('header').get('focused')"
   ]
  },
  {
   "cell_type": "markdown",
   "metadata": {},
   "source": [
    "# 7-11 热门搜索样式布局"
   ]
  },
  {
   "cell_type": "markdown",
   "metadata": {},
   "source": [
    "# 7-12 Ajax获取推荐数据\n",
    "\n",
    "- 使用 redux-thunk 处理异步\n",
    "- 使用 axios\n",
    "    - 后端未开发：可以借用React特性，在api文件夹下写假数据"
   ]
  },
  {
   "cell_type": "markdown",
   "metadata": {},
   "source": [
    "# 7-13 代码优化微调"
   ]
  },
  {
   "cell_type": "markdown",
   "metadata": {},
   "source": [
    "# 7-14 热门搜索换页功能实现\n",
    "\n",
    "- `onMouseEnter()` 和 `onMouseLeave()` 事件函数\n",
    "- `state.merge()` 用法：同时改变多个数据内容\n",
    "    \n",
    "    \n",
    "    // 在 reducer.js 中两者等价\n",
    "    \n",
    "    return state.merge({\n",
    "        list: action.data,\n",
    "        totalPage: action.totalPage\n",
    "    })\n",
    "    \n",
    "    return state.set('list', action.data).set('totalPage', action.totalPage)"
   ]
  },
  {
   "cell_type": "markdown",
   "metadata": {},
   "source": [
    "# 7-15 换页旋转动画效果的实现\n",
    "\n",
    "\n",
    "**直接使用css3动画**\n",
    "- `ease-in`\n",
    "    先慢后快\n",
    "- `ease-out`\n",
    "    先快后慢\n",
    "\n",
    "**使用ref直接获取自身dom结点**\n",
    "    \n",
    "    \n",
    "    .spin {\n",
    "        display: block;\n",
    "        float: left;\n",
    "        font-size: 12px;\n",
    "        margin-right: 2px;\n",
    "        transition: all .2s ease-in;\n",
    "        transform-origin: center center;\n",
    "        /*transform: rotate(0deg)*/\n",
    "    }"
   ]
  },
  {
   "cell_type": "markdown",
   "metadata": {},
   "source": [
    "# 7-16 避免无意义的请求发送，提升组件性能\n"
   ]
  },
  {
   "cell_type": "markdown",
   "metadata": {},
   "source": [
    "# 8-1 什么是路由，如何在React中使用路由功能\n",
    "\n",
    "### 安装\n",
    "`yarn add react-router-dom`\n",
    "\n",
    "### 使用\n",
    "`import { BrowserHistory, Route } from 'react-router'`\n",
    "\n",
    "### 添加路由\n",
    "\n",
    "    \n",
    "    // in App.js\n",
    "    \n",
    "    class App extends Component {\n",
    "      render() {\n",
    "        return (\n",
    "          <Provider store={store}>\n",
    "            <Fragment>\n",
    "              <Header />\n",
    "              <BrowserRouter>\n",
    "                <Fragment>\n",
    "                  <Route path='/' exact render={() => (<div>home</div>)}></Route>\n",
    "                  <Route path='/detail' exact render={() => (<div>detail</div>)}></Route>\n",
    "                </Fragment>\n",
    "              </BrowserRouter>\n",
    "            </Fragment>\n",
    "          </Provider>\n",
    "        )\n",
    "      }\n",
    "    }\n",
    "    \n",
    "    // 由于 Provider 和 BrowserRouter 只能有1个child，所以用Fragment包裹起来\n",
    "    // exact 表示绝对匹配"
   ]
  },
  {
   "cell_type": "markdown",
   "metadata": {},
   "source": [
    "# 8-2 首页组件的拆分\n",
    "\n",
    "**如何通过路由渲染组件**\n",
    "\n",
    "**使用 component**\n",
    "    \n",
    "    \n",
    "    <Route path='/' exact component={Home}></Route>\n",
    "    <Route path='/detail' exact component={Detail}></Route>"
   ]
  },
  {
   "cell_type": "markdown",
   "metadata": {},
   "source": [
    "# 8-3 首页专题区域布局及reducer的设计\n",
    "\n",
    "**img标签引入图片：把图片放在public文件夹下**"
   ]
  },
  {
   "cell_type": "markdown",
   "metadata": {},
   "source": [
    "# 8-4 首页文章列表制作"
   ]
  },
  {
   "cell_type": "markdown",
   "metadata": {},
   "source": [
    "# 8-5 首页推荐部分代码编写\n",
    "\n",
    "**styled-components 可以通过 props传递值**\n",
    "\n",
    "    \n",
    "    export const RecommendItem = styled.div`\n",
    "      width: 280px;\n",
    "      height: 50px;\n",
    "      background: url(${(props) => (props.imgUrl)});\n",
    "      background-size: contain;\n",
    "    `"
   ]
  },
  {
   "cell_type": "markdown",
   "metadata": {},
   "source": [
    "# 8-6 首页异步数据获取"
   ]
  },
  {
   "cell_type": "markdown",
   "metadata": {},
   "source": [
    "# 8-7 异步操作代码拆分优化"
   ]
  },
  {
   "cell_type": "markdown",
   "metadata": {},
   "source": [
    "# 8-8 实现加载更多功能\n"
   ]
  },
  {
   "cell_type": "markdown",
   "metadata": {},
   "source": [
    "# 8-9 返回顶部功能实现"
   ]
  },
  {
   "cell_type": "markdown",
   "metadata": {},
   "source": [
    "# 8-10 首页性能优化及路由跳转\n",
    "\n",
    "**优化：shouldComponentUpdate()**\n",
    "\n",
    "**React Fiber解决方法：Pure COmponent**\n",
    "- 想要不被坑，必须用Immutable JS\n",
    "\n",
    "**React Router 是单页应用跳转**\n",
    "- a 标签不是单页应用跳转\n",
    "- Link 组件，to属性\n",
    "    \n",
    "    \n",
    "    import { Link } from 'react-router-dom'\n",
    "    \n",
    "    <Link key={item.get('id')} to='/detail'>\n",
    "    </Link>"
   ]
  },
  {
   "cell_type": "markdown",
   "metadata": {},
   "source": [
    "# 9-1 详情页面布局\n"
   ]
  },
  {
   "cell_type": "markdown",
   "metadata": {},
   "source": [
    "# 9-2 使用redux管理详情页面"
   ]
  },
  {
   "cell_type": "markdown",
   "metadata": {},
   "source": [
    "# 9-3 异步获取数据"
   ]
  },
  {
   "cell_type": "markdown",
   "metadata": {},
   "source": [
    "# 9-4  页面路由参数的传递\n",
    "\n",
    "1. 动态路由\n",
    "    \n",
    "    \n",
    "    <Link key={item.get('id')} to={`/detail/${item.get('id')}`}>\n",
    "    </Link>\n",
    "    \n",
    "    // 路由传递参数\n",
    "    <Route path='/detail/:id' exact component={Detail}></Route>\n",
    "    \n",
    "    // 获取参数\n",
    "    render {\n",
    "        const id = this.props.match.params.id\n",
    "        // ...\n",
    "    }\n",
    "    \n",
    "2. url ? 参数\n",
    "\n",
    "    // 获取参数\n",
    "    render {\n",
    "        const id = this.props.location.search\n",
    "        // ...\n",
    "        // 需要手动获取 \n",
    "    }"
   ]
  },
  {
   "cell_type": "markdown",
   "metadata": {},
   "source": [
    "# 9-5 登录页面布局"
   ]
  },
  {
   "cell_type": "markdown",
   "metadata": {},
   "source": [
    "# 9-6 登录功能实现\n",
    "\n",
    "**如果使用styled-components，用innerRef不用ref**\n",
    "\n",
    "**如何做跳转**\n",
    "\n",
    "    \n",
    "    import { Redirect } from 'react-router-dom'\n",
    "    return <Redirect to='/' />"
   ]
  },
  {
   "cell_type": "markdown",
   "metadata": {},
   "source": [
    "# 9-7 登录鉴权及代码优化"
   ]
  },
  {
   "cell_type": "markdown",
   "metadata": {},
   "source": [
    "# 9-8 异步组件及withRouter路由方法的使用\n",
    "\n",
    "**问题**\n",
    "- 首页加载了所有js代码，比较慢\n",
    "\n",
    "**解决**\n",
    "- 异步加载，只加载要用的\n",
    "- `react-loadable.js`\n"
   ]
  },
  {
   "cell_type": "markdown",
   "metadata": {},
   "source": [
    "# 10-1 项目上线\n",
    "\n",
    "    npm run build"
   ]
  },
  {
   "cell_type": "code",
   "execution_count": null,
   "metadata": {},
   "outputs": [],
   "source": []
  }
 ],
 "metadata": {
  "kernelspec": {
   "display_name": "Python 3",
   "language": "python",
   "name": "python3"
  },
  "language_info": {
   "codemirror_mode": {
    "name": "ipython",
    "version": 3
   },
   "file_extension": ".py",
   "mimetype": "text/x-python",
   "name": "python",
   "nbconvert_exporter": "python",
   "pygments_lexer": "ipython3",
   "version": "3.7.4"
  }
 },
 "nbformat": 4,
 "nbformat_minor": 2
}
