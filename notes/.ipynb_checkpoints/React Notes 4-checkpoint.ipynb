{
 "cells": [
  {
   "cell_type": "markdown",
   "metadata": {},
   "source": [
    "# 7-1 项目目录搭建，Styled-Components 与 Reset.css 的结合使用\n",
    "- `create-react-app jianshu`\n",
    "\n",
    "**注意点**\n",
    "- CSS文件一旦在一个地方引入，全局生效\n",
    "- 一般使用第三方模块，Styled Components进行管理\n",
    "    - 安装: `yarn add styled-components`\n",
    "    - 使用: 可以在js文件中写css样式\n",
    "    - createGolbalStyle\n",
    "    \n",
    "    \n",
    "    // style.js\n",
    "    import { createGlobalStyle } from 'styled-components'\n",
    "\n",
    "    export const GlobalStyle = createGlobalStyle`\n",
    "      body {\n",
    "        margin: 0;\n",
    "        padding: 0;\n",
    "        font-family: sans-serief;\n",
    "        background: green;\n",
    "      }\n",
    "    `\n",
    "    \n",
    "    // index.js\n",
    "    import React, { Fragment } from 'react';\n",
    "    import ReactDOM from 'react-dom';\n",
    "    import App from './App';\n",
    "    import { GlobalStyle } from './style.js';\n",
    "\n",
    "    ReactDOM.render(\n",
    "      <Fragment>\n",
    "        <GlobalStyle />\n",
    "        <App />\n",
    "      </Fragment>,\n",
    "      document.getElementById('root')\n",
    "    );\n",
    "\n",
    "\n",
    "### Reset.css 样式统一\n",
    "就是一段css代码\n",
    "\n",
    "[reset.css](https://meyerweb.com/eric/tools/css/reset/)"
   ]
  },
  {
   "cell_type": "markdown",
   "metadata": {},
   "source": [
    "# 7-2 / 7-3使用 styled-components 完成 Header 组件布局\n",
    "\n",
    "    \n",
    "    import styled from 'styled-components'\n",
    "\n",
    "    // 本质就是div\n",
    "    export const HeaderWrapper = styled.div`\n",
    "      height: 56px;\n",
    "      background: red;\n",
    "    `\n",
    "    \n",
    "**HeaderWrapper组件的本质就是一个带样式的div标签**\n",
    "\n",
    "### 总结\n",
    "- styled-components 第三方组件实现样式独享，不会互相冲突"
   ]
  },
  {
   "cell_type": "markdown",
   "metadata": {},
   "source": [
    "# 7-4 使用 iconfont 嵌入头部图标\n",
    "\n",
    "1. 注册账号并新建项目\n",
    "2. 选取需要的图标添加至购物车\n",
    "3. 下载到本地\n",
    "4. 选取以下有用的文件，添加至src/iconfont\n",
    "    - iconfont.{css, eot, svg, ttf, woff}\n",
    "5. 修改 iconfont.css 为iconfont.js\n",
    "    - createGlobalStyle\n",
    "    \n",
    "    \n",
    "### 使用\n",
    "\n",
    "将 `Aa` 替换为 `<i className=\"iconfont\">&#xe636;</i>`\n",
    "\n",
    "将 羽毛笔 替换为 `<i className=\"iconfont\">&#xe6e5;</i>`\n",
    "\n",
    "将 放大镜 替换为 `<i className=\"iconfont\">&#xe614;</i>`"
   ]
  },
  {
   "cell_type": "markdown",
   "metadata": {},
   "source": [
    "# 7-5 搜索框动画效果实现\n",
    "\n",
    "- `yarn add react-transition-group`\n",
    "\n",
    "\n",
    "    .slide-enter {\n",
    "    transition: all .2s ease-out\n",
    "    }\n",
    "    .slide-enter-active {\n",
    "    width: 240px;\n",
    "    }\n",
    "    .slide-exit {\n",
    "    transition: all .2s ease-out\n",
    "    }\n",
    "    .slide-exit-active {\n",
    "    width: 160px;\n",
    "    }\n",
    "    \n",
    "    \n",
    "    <CSSTransition\n",
    "        in={this.state.focused}\n",
    "        timeout={200}\n",
    "        classNames=\"slide\"\n",
    "    >\n",
    "        <NavSearch\n",
    "            className={this.state.focused ? 'focused' : ''}\n",
    "            onFocus={this.handleInputFocus}\n",
    "            onBlur={this.handleInputBlur}\n",
    "        ></NavSearch>\n",
    "    </CSSTransition>"
   ]
  },
  {
   "cell_type": "markdown",
   "metadata": {},
   "source": [
    "# 7-6 使用 React-Redux进行应用数据的管理\n",
    "\n",
    "- yarn add redux\n",
    "- yarn add react-redux"
   ]
  },
  {
   "cell_type": "code",
   "execution_count": null,
   "metadata": {},
   "outputs": [],
   "source": []
  }
 ],
 "metadata": {
  "kernelspec": {
   "display_name": "Python 3",
   "language": "python",
   "name": "python3"
  },
  "language_info": {
   "codemirror_mode": {
    "name": "ipython",
    "version": 3
   },
   "file_extension": ".py",
   "mimetype": "text/x-python",
   "name": "python",
   "nbconvert_exporter": "python",
   "pygments_lexer": "ipython3",
   "version": "3.7.4"
  }
 },
 "nbformat": 4,
 "nbformat_minor": 2
}
